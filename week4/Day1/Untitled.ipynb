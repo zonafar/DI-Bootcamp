{
 "cells": [
  {
   "cell_type": "code",
   "execution_count": 1,
   "id": "7979ecca",
   "metadata": {},
   "outputs": [
    {
     "name": "stdout",
     "output_type": "stream",
     "text": [
      "Number36\n",
      "Hello world\n"
     ]
    }
   ],
   "source": [
    "a = 65\n",
    "b=input(\"Number\")\n",
    "b = int(b)\n",
    "if a > b :\n",
    "    print(\"Hello world\")"
   ]
  },
  {
   "cell_type": "code",
   "execution_count": 5,
   "id": "b577a869",
   "metadata": {},
   "outputs": [
    {
     "name": "stdout",
     "output_type": "stream",
     "text": [
      "Enter your number3\n",
      "3 is even\n"
     ]
    }
   ],
   "source": [
    "number = int(input(\"Enter your number\"))\n",
    "# while number == :\n",
    "#     number = int(input(\"Enter your number Please\"))\n",
    "if number%2 == 0 :\n",
    "    print(\"{} is odd\".format(number))\n",
    "else:\n",
    "    print(\"{} is even\".format(number))"
   ]
  },
  {
   "cell_type": "code",
   "execution_count": 7,
   "id": "c1dcd190",
   "metadata": {},
   "outputs": [
    {
     "name": "stdout",
     "output_type": "stream",
     "text": [
      "Your height inches45\n",
      "You need to grow some more to ride\n"
     ]
    }
   ],
   "source": [
    "inches = int(input(\"Your height inches\"))\n",
    "cm = inches * 2.45\n",
    "if (cm > 145):\n",
    "    print(\"You are tall enough to ride\")\n",
    "else:\n",
    "    print(\"You need to grow some more to ride\")"
   ]
  }
 ],
 "metadata": {
  "kernelspec": {
   "display_name": "Python 3 (ipykernel)",
   "language": "python",
   "name": "python3"
  },
  "language_info": {
   "codemirror_mode": {
    "name": "ipython",
    "version": 3
   },
   "file_extension": ".py",
   "mimetype": "text/x-python",
   "name": "python",
   "nbconvert_exporter": "python",
   "pygments_lexer": "ipython3",
   "version": "3.9.7"
  }
 },
 "nbformat": 4,
 "nbformat_minor": 5
}
